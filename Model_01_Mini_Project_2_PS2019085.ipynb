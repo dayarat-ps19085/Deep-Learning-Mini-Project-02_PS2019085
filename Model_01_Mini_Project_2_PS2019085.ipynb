{
  "nbformat": 4,
  "nbformat_minor": 0,
  "metadata": {
    "colab": {
      "provenance": []
    },
    "kernelspec": {
      "name": "python3",
      "display_name": "Python 3"
    },
    "language_info": {
      "name": "python"
    }
  },
  "cells": [
    {
      "cell_type": "markdown",
      "source": [
        "**STOCK PRICE PREDICTION SYSTEM**"
      ],
      "metadata": {
        "id": "1zeiA3NE0dvq"
      }
    },
    {
      "cell_type": "markdown",
      "source": [
        "**DIALOG AXIATA-Share Historical Data**(daily 02/25/2022-02/25/2024)"
      ],
      "metadata": {
        "id": "eYwNP1_b6RJC"
      }
    },
    {
      "cell_type": "code",
      "execution_count": null,
      "metadata": {
        "colab": {
          "base_uri": "https://localhost:8080/",
          "height": 423
        },
        "id": "6RLwZRj7H2Ar",
        "outputId": "d178349d-5d31-40a5-ac89-7dfba9943331"
      },
      "outputs": [
        {
          "output_type": "execute_result",
          "data": {
            "text/plain": [
              "           Date  Price  Open  High   Low     Vol. Change %\n",
              "0    02/22/2024   10.5  10.5  10.6  10.4    2.66M    0.00%\n",
              "1    02/21/2024   10.5  10.3  10.6  10.3    2.65M    1.94%\n",
              "2    02/20/2024   10.3  10.3  10.4  10.2    1.61M    0.98%\n",
              "3    02/19/2024   10.2  10.1  10.5  10.1    4.19M    3.03%\n",
              "4    02/16/2024    9.9   9.7   9.9   9.6    3.25M    3.12%\n",
              "..          ...    ...   ...   ...   ...      ...      ...\n",
              "468  03/04/2022   11.3  11.4  11.6  11.3  171.45K   -0.88%\n",
              "469  03/03/2022   11.4  11.7  11.7  11.4  304.17K   -1.72%\n",
              "470  03/02/2022   11.6  11.7  11.7  11.4  365.13K   -0.85%\n",
              "471  02/28/2022   11.7  11.4  11.8  11.2    3.82M    3.54%\n",
              "472  02/25/2022   11.3  11.2  11.5  11.2    2.68M    0.00%\n",
              "\n",
              "[473 rows x 7 columns]"
            ],
            "text/html": [
              "\n",
              "  <div id=\"df-484232fb-7e36-4879-a5d9-03247e2e2cf9\" class=\"colab-df-container\">\n",
              "    <div>\n",
              "<style scoped>\n",
              "    .dataframe tbody tr th:only-of-type {\n",
              "        vertical-align: middle;\n",
              "    }\n",
              "\n",
              "    .dataframe tbody tr th {\n",
              "        vertical-align: top;\n",
              "    }\n",
              "\n",
              "    .dataframe thead th {\n",
              "        text-align: right;\n",
              "    }\n",
              "</style>\n",
              "<table border=\"1\" class=\"dataframe\">\n",
              "  <thead>\n",
              "    <tr style=\"text-align: right;\">\n",
              "      <th></th>\n",
              "      <th>Date</th>\n",
              "      <th>Price</th>\n",
              "      <th>Open</th>\n",
              "      <th>High</th>\n",
              "      <th>Low</th>\n",
              "      <th>Vol.</th>\n",
              "      <th>Change %</th>\n",
              "    </tr>\n",
              "  </thead>\n",
              "  <tbody>\n",
              "    <tr>\n",
              "      <th>0</th>\n",
              "      <td>02/22/2024</td>\n",
              "      <td>10.5</td>\n",
              "      <td>10.5</td>\n",
              "      <td>10.6</td>\n",
              "      <td>10.4</td>\n",
              "      <td>2.66M</td>\n",
              "      <td>0.00%</td>\n",
              "    </tr>\n",
              "    <tr>\n",
              "      <th>1</th>\n",
              "      <td>02/21/2024</td>\n",
              "      <td>10.5</td>\n",
              "      <td>10.3</td>\n",
              "      <td>10.6</td>\n",
              "      <td>10.3</td>\n",
              "      <td>2.65M</td>\n",
              "      <td>1.94%</td>\n",
              "    </tr>\n",
              "    <tr>\n",
              "      <th>2</th>\n",
              "      <td>02/20/2024</td>\n",
              "      <td>10.3</td>\n",
              "      <td>10.3</td>\n",
              "      <td>10.4</td>\n",
              "      <td>10.2</td>\n",
              "      <td>1.61M</td>\n",
              "      <td>0.98%</td>\n",
              "    </tr>\n",
              "    <tr>\n",
              "      <th>3</th>\n",
              "      <td>02/19/2024</td>\n",
              "      <td>10.2</td>\n",
              "      <td>10.1</td>\n",
              "      <td>10.5</td>\n",
              "      <td>10.1</td>\n",
              "      <td>4.19M</td>\n",
              "      <td>3.03%</td>\n",
              "    </tr>\n",
              "    <tr>\n",
              "      <th>4</th>\n",
              "      <td>02/16/2024</td>\n",
              "      <td>9.9</td>\n",
              "      <td>9.7</td>\n",
              "      <td>9.9</td>\n",
              "      <td>9.6</td>\n",
              "      <td>3.25M</td>\n",
              "      <td>3.12%</td>\n",
              "    </tr>\n",
              "    <tr>\n",
              "      <th>...</th>\n",
              "      <td>...</td>\n",
              "      <td>...</td>\n",
              "      <td>...</td>\n",
              "      <td>...</td>\n",
              "      <td>...</td>\n",
              "      <td>...</td>\n",
              "      <td>...</td>\n",
              "    </tr>\n",
              "    <tr>\n",
              "      <th>468</th>\n",
              "      <td>03/04/2022</td>\n",
              "      <td>11.3</td>\n",
              "      <td>11.4</td>\n",
              "      <td>11.6</td>\n",
              "      <td>11.3</td>\n",
              "      <td>171.45K</td>\n",
              "      <td>-0.88%</td>\n",
              "    </tr>\n",
              "    <tr>\n",
              "      <th>469</th>\n",
              "      <td>03/03/2022</td>\n",
              "      <td>11.4</td>\n",
              "      <td>11.7</td>\n",
              "      <td>11.7</td>\n",
              "      <td>11.4</td>\n",
              "      <td>304.17K</td>\n",
              "      <td>-1.72%</td>\n",
              "    </tr>\n",
              "    <tr>\n",
              "      <th>470</th>\n",
              "      <td>03/02/2022</td>\n",
              "      <td>11.6</td>\n",
              "      <td>11.7</td>\n",
              "      <td>11.7</td>\n",
              "      <td>11.4</td>\n",
              "      <td>365.13K</td>\n",
              "      <td>-0.85%</td>\n",
              "    </tr>\n",
              "    <tr>\n",
              "      <th>471</th>\n",
              "      <td>02/28/2022</td>\n",
              "      <td>11.7</td>\n",
              "      <td>11.4</td>\n",
              "      <td>11.8</td>\n",
              "      <td>11.2</td>\n",
              "      <td>3.82M</td>\n",
              "      <td>3.54%</td>\n",
              "    </tr>\n",
              "    <tr>\n",
              "      <th>472</th>\n",
              "      <td>02/25/2022</td>\n",
              "      <td>11.3</td>\n",
              "      <td>11.2</td>\n",
              "      <td>11.5</td>\n",
              "      <td>11.2</td>\n",
              "      <td>2.68M</td>\n",
              "      <td>0.00%</td>\n",
              "    </tr>\n",
              "  </tbody>\n",
              "</table>\n",
              "<p>473 rows × 7 columns</p>\n",
              "</div>\n",
              "    <div class=\"colab-df-buttons\">\n",
              "\n",
              "  <div class=\"colab-df-container\">\n",
              "    <button class=\"colab-df-convert\" onclick=\"convertToInteractive('df-484232fb-7e36-4879-a5d9-03247e2e2cf9')\"\n",
              "            title=\"Convert this dataframe to an interactive table.\"\n",
              "            style=\"display:none;\">\n",
              "\n",
              "  <svg xmlns=\"http://www.w3.org/2000/svg\" height=\"24px\" viewBox=\"0 -960 960 960\">\n",
              "    <path d=\"M120-120v-720h720v720H120Zm60-500h600v-160H180v160Zm220 220h160v-160H400v160Zm0 220h160v-160H400v160ZM180-400h160v-160H180v160Zm440 0h160v-160H620v160ZM180-180h160v-160H180v160Zm440 0h160v-160H620v160Z\"/>\n",
              "  </svg>\n",
              "    </button>\n",
              "\n",
              "  <style>\n",
              "    .colab-df-container {\n",
              "      display:flex;\n",
              "      gap: 12px;\n",
              "    }\n",
              "\n",
              "    .colab-df-convert {\n",
              "      background-color: #E8F0FE;\n",
              "      border: none;\n",
              "      border-radius: 50%;\n",
              "      cursor: pointer;\n",
              "      display: none;\n",
              "      fill: #1967D2;\n",
              "      height: 32px;\n",
              "      padding: 0 0 0 0;\n",
              "      width: 32px;\n",
              "    }\n",
              "\n",
              "    .colab-df-convert:hover {\n",
              "      background-color: #E2EBFA;\n",
              "      box-shadow: 0px 1px 2px rgba(60, 64, 67, 0.3), 0px 1px 3px 1px rgba(60, 64, 67, 0.15);\n",
              "      fill: #174EA6;\n",
              "    }\n",
              "\n",
              "    .colab-df-buttons div {\n",
              "      margin-bottom: 4px;\n",
              "    }\n",
              "\n",
              "    [theme=dark] .colab-df-convert {\n",
              "      background-color: #3B4455;\n",
              "      fill: #D2E3FC;\n",
              "    }\n",
              "\n",
              "    [theme=dark] .colab-df-convert:hover {\n",
              "      background-color: #434B5C;\n",
              "      box-shadow: 0px 1px 3px 1px rgba(0, 0, 0, 0.15);\n",
              "      filter: drop-shadow(0px 1px 2px rgba(0, 0, 0, 0.3));\n",
              "      fill: #FFFFFF;\n",
              "    }\n",
              "  </style>\n",
              "\n",
              "    <script>\n",
              "      const buttonEl =\n",
              "        document.querySelector('#df-484232fb-7e36-4879-a5d9-03247e2e2cf9 button.colab-df-convert');\n",
              "      buttonEl.style.display =\n",
              "        google.colab.kernel.accessAllowed ? 'block' : 'none';\n",
              "\n",
              "      async function convertToInteractive(key) {\n",
              "        const element = document.querySelector('#df-484232fb-7e36-4879-a5d9-03247e2e2cf9');\n",
              "        const dataTable =\n",
              "          await google.colab.kernel.invokeFunction('convertToInteractive',\n",
              "                                                    [key], {});\n",
              "        if (!dataTable) return;\n",
              "\n",
              "        const docLinkHtml = 'Like what you see? Visit the ' +\n",
              "          '<a target=\"_blank\" href=https://colab.research.google.com/notebooks/data_table.ipynb>data table notebook</a>'\n",
              "          + ' to learn more about interactive tables.';\n",
              "        element.innerHTML = '';\n",
              "        dataTable['output_type'] = 'display_data';\n",
              "        await google.colab.output.renderOutput(dataTable, element);\n",
              "        const docLink = document.createElement('div');\n",
              "        docLink.innerHTML = docLinkHtml;\n",
              "        element.appendChild(docLink);\n",
              "      }\n",
              "    </script>\n",
              "  </div>\n",
              "\n",
              "\n",
              "<div id=\"df-0e0798bb-cd8c-449e-a7cc-a544de9b20bd\">\n",
              "  <button class=\"colab-df-quickchart\" onclick=\"quickchart('df-0e0798bb-cd8c-449e-a7cc-a544de9b20bd')\"\n",
              "            title=\"Suggest charts\"\n",
              "            style=\"display:none;\">\n",
              "\n",
              "<svg xmlns=\"http://www.w3.org/2000/svg\" height=\"24px\"viewBox=\"0 0 24 24\"\n",
              "     width=\"24px\">\n",
              "    <g>\n",
              "        <path d=\"M19 3H5c-1.1 0-2 .9-2 2v14c0 1.1.9 2 2 2h14c1.1 0 2-.9 2-2V5c0-1.1-.9-2-2-2zM9 17H7v-7h2v7zm4 0h-2V7h2v10zm4 0h-2v-4h2v4z\"/>\n",
              "    </g>\n",
              "</svg>\n",
              "  </button>\n",
              "\n",
              "<style>\n",
              "  .colab-df-quickchart {\n",
              "      --bg-color: #E8F0FE;\n",
              "      --fill-color: #1967D2;\n",
              "      --hover-bg-color: #E2EBFA;\n",
              "      --hover-fill-color: #174EA6;\n",
              "      --disabled-fill-color: #AAA;\n",
              "      --disabled-bg-color: #DDD;\n",
              "  }\n",
              "\n",
              "  [theme=dark] .colab-df-quickchart {\n",
              "      --bg-color: #3B4455;\n",
              "      --fill-color: #D2E3FC;\n",
              "      --hover-bg-color: #434B5C;\n",
              "      --hover-fill-color: #FFFFFF;\n",
              "      --disabled-bg-color: #3B4455;\n",
              "      --disabled-fill-color: #666;\n",
              "  }\n",
              "\n",
              "  .colab-df-quickchart {\n",
              "    background-color: var(--bg-color);\n",
              "    border: none;\n",
              "    border-radius: 50%;\n",
              "    cursor: pointer;\n",
              "    display: none;\n",
              "    fill: var(--fill-color);\n",
              "    height: 32px;\n",
              "    padding: 0;\n",
              "    width: 32px;\n",
              "  }\n",
              "\n",
              "  .colab-df-quickchart:hover {\n",
              "    background-color: var(--hover-bg-color);\n",
              "    box-shadow: 0 1px 2px rgba(60, 64, 67, 0.3), 0 1px 3px 1px rgba(60, 64, 67, 0.15);\n",
              "    fill: var(--button-hover-fill-color);\n",
              "  }\n",
              "\n",
              "  .colab-df-quickchart-complete:disabled,\n",
              "  .colab-df-quickchart-complete:disabled:hover {\n",
              "    background-color: var(--disabled-bg-color);\n",
              "    fill: var(--disabled-fill-color);\n",
              "    box-shadow: none;\n",
              "  }\n",
              "\n",
              "  .colab-df-spinner {\n",
              "    border: 2px solid var(--fill-color);\n",
              "    border-color: transparent;\n",
              "    border-bottom-color: var(--fill-color);\n",
              "    animation:\n",
              "      spin 1s steps(1) infinite;\n",
              "  }\n",
              "\n",
              "  @keyframes spin {\n",
              "    0% {\n",
              "      border-color: transparent;\n",
              "      border-bottom-color: var(--fill-color);\n",
              "      border-left-color: var(--fill-color);\n",
              "    }\n",
              "    20% {\n",
              "      border-color: transparent;\n",
              "      border-left-color: var(--fill-color);\n",
              "      border-top-color: var(--fill-color);\n",
              "    }\n",
              "    30% {\n",
              "      border-color: transparent;\n",
              "      border-left-color: var(--fill-color);\n",
              "      border-top-color: var(--fill-color);\n",
              "      border-right-color: var(--fill-color);\n",
              "    }\n",
              "    40% {\n",
              "      border-color: transparent;\n",
              "      border-right-color: var(--fill-color);\n",
              "      border-top-color: var(--fill-color);\n",
              "    }\n",
              "    60% {\n",
              "      border-color: transparent;\n",
              "      border-right-color: var(--fill-color);\n",
              "    }\n",
              "    80% {\n",
              "      border-color: transparent;\n",
              "      border-right-color: var(--fill-color);\n",
              "      border-bottom-color: var(--fill-color);\n",
              "    }\n",
              "    90% {\n",
              "      border-color: transparent;\n",
              "      border-bottom-color: var(--fill-color);\n",
              "    }\n",
              "  }\n",
              "</style>\n",
              "\n",
              "  <script>\n",
              "    async function quickchart(key) {\n",
              "      const quickchartButtonEl =\n",
              "        document.querySelector('#' + key + ' button');\n",
              "      quickchartButtonEl.disabled = true;  // To prevent multiple clicks.\n",
              "      quickchartButtonEl.classList.add('colab-df-spinner');\n",
              "      try {\n",
              "        const charts = await google.colab.kernel.invokeFunction(\n",
              "            'suggestCharts', [key], {});\n",
              "      } catch (error) {\n",
              "        console.error('Error during call to suggestCharts:', error);\n",
              "      }\n",
              "      quickchartButtonEl.classList.remove('colab-df-spinner');\n",
              "      quickchartButtonEl.classList.add('colab-df-quickchart-complete');\n",
              "    }\n",
              "    (() => {\n",
              "      let quickchartButtonEl =\n",
              "        document.querySelector('#df-0e0798bb-cd8c-449e-a7cc-a544de9b20bd button');\n",
              "      quickchartButtonEl.style.display =\n",
              "        google.colab.kernel.accessAllowed ? 'block' : 'none';\n",
              "    })();\n",
              "  </script>\n",
              "</div>\n",
              "\n",
              "  <div id=\"id_f8d1a47b-5190-416d-8cf1-f18b7ff0a8dc\">\n",
              "    <style>\n",
              "      .colab-df-generate {\n",
              "        background-color: #E8F0FE;\n",
              "        border: none;\n",
              "        border-radius: 50%;\n",
              "        cursor: pointer;\n",
              "        display: none;\n",
              "        fill: #1967D2;\n",
              "        height: 32px;\n",
              "        padding: 0 0 0 0;\n",
              "        width: 32px;\n",
              "      }\n",
              "\n",
              "      .colab-df-generate:hover {\n",
              "        background-color: #E2EBFA;\n",
              "        box-shadow: 0px 1px 2px rgba(60, 64, 67, 0.3), 0px 1px 3px 1px rgba(60, 64, 67, 0.15);\n",
              "        fill: #174EA6;\n",
              "      }\n",
              "\n",
              "      [theme=dark] .colab-df-generate {\n",
              "        background-color: #3B4455;\n",
              "        fill: #D2E3FC;\n",
              "      }\n",
              "\n",
              "      [theme=dark] .colab-df-generate:hover {\n",
              "        background-color: #434B5C;\n",
              "        box-shadow: 0px 1px 3px 1px rgba(0, 0, 0, 0.15);\n",
              "        filter: drop-shadow(0px 1px 2px rgba(0, 0, 0, 0.3));\n",
              "        fill: #FFFFFF;\n",
              "      }\n",
              "    </style>\n",
              "    <button class=\"colab-df-generate\" onclick=\"generateWithVariable('df')\"\n",
              "            title=\"Generate code using this dataframe.\"\n",
              "            style=\"display:none;\">\n",
              "\n",
              "  <svg xmlns=\"http://www.w3.org/2000/svg\" height=\"24px\"viewBox=\"0 0 24 24\"\n",
              "       width=\"24px\">\n",
              "    <path d=\"M7,19H8.4L18.45,9,17,7.55,7,17.6ZM5,21V16.75L18.45,3.32a2,2,0,0,1,2.83,0l1.4,1.43a1.91,1.91,0,0,1,.58,1.4,1.91,1.91,0,0,1-.58,1.4L9.25,21ZM18.45,9,17,7.55Zm-12,3A5.31,5.31,0,0,0,4.9,8.1,5.31,5.31,0,0,0,1,6.5,5.31,5.31,0,0,0,4.9,4.9,5.31,5.31,0,0,0,6.5,1,5.31,5.31,0,0,0,8.1,4.9,5.31,5.31,0,0,0,12,6.5,5.46,5.46,0,0,0,6.5,12Z\"/>\n",
              "  </svg>\n",
              "    </button>\n",
              "    <script>\n",
              "      (() => {\n",
              "      const buttonEl =\n",
              "        document.querySelector('#id_f8d1a47b-5190-416d-8cf1-f18b7ff0a8dc button.colab-df-generate');\n",
              "      buttonEl.style.display =\n",
              "        google.colab.kernel.accessAllowed ? 'block' : 'none';\n",
              "\n",
              "      buttonEl.onclick = () => {\n",
              "        google.colab.notebook.generateWithVariable('df');\n",
              "      }\n",
              "      })();\n",
              "    </script>\n",
              "  </div>\n",
              "\n",
              "    </div>\n",
              "  </div>\n"
            ],
            "application/vnd.google.colaboratory.intrinsic+json": {
              "type": "dataframe",
              "variable_name": "df",
              "repr_error": "'str' object has no attribute 'empty'"
            }
          },
          "metadata": {},
          "execution_count": 2
        }
      ],
      "source": [
        "import pandas as pd\n",
        "\n",
        "#Historiacal data(daily) of Dialog Axiata 02/26/2022-02/25/2024\n",
        "df = pd.read_csv('DIALOGAXIATA.csv')\n",
        "df"
      ]
    },
    {
      "cell_type": "code",
      "source": [
        "df.shape"
      ],
      "metadata": {
        "colab": {
          "base_uri": "https://localhost:8080/"
        },
        "id": "YX6H34VxITta",
        "outputId": "e3e58dd7-a614-456d-8ae5-52be8f3d5e2f"
      },
      "execution_count": null,
      "outputs": [
        {
          "output_type": "execute_result",
          "data": {
            "text/plain": [
              "(473, 7)"
            ]
          },
          "metadata": {},
          "execution_count": 3
        }
      ]
    },
    {
      "cell_type": "code",
      "source": [
        "#creating new dataframe with Price column\n",
        "df1 = df.reset_index()['Price']"
      ],
      "metadata": {
        "id": "ln2pB6Y6It8X"
      },
      "execution_count": null,
      "outputs": []
    },
    {
      "cell_type": "code",
      "source": [
        "df1.head()"
      ],
      "metadata": {
        "colab": {
          "base_uri": "https://localhost:8080/"
        },
        "id": "mAYXFHu1JWpg",
        "outputId": "a624fb71-f673-4ae4-b86b-bc91cae5d090"
      },
      "execution_count": null,
      "outputs": [
        {
          "output_type": "execute_result",
          "data": {
            "text/plain": [
              "0    10.5\n",
              "1    10.5\n",
              "2    10.3\n",
              "3    10.2\n",
              "4     9.9\n",
              "Name: Price, dtype: float64"
            ]
          },
          "metadata": {},
          "execution_count": 6
        }
      ]
    },
    {
      "cell_type": "code",
      "source": [
        "df1.shape\n"
      ],
      "metadata": {
        "colab": {
          "base_uri": "https://localhost:8080/"
        },
        "id": "C_OlLNTDJc5s",
        "outputId": "674e0257-ead4-468f-c254-97402e777c9b"
      },
      "execution_count": null,
      "outputs": [
        {
          "output_type": "execute_result",
          "data": {
            "text/plain": [
              "(473,)"
            ]
          },
          "metadata": {},
          "execution_count": 7
        }
      ]
    },
    {
      "cell_type": "code",
      "source": [
        "import matplotlib.pyplot as plt\n",
        "plt.plot(df1)"
      ],
      "metadata": {
        "colab": {
          "base_uri": "https://localhost:8080/",
          "height": 448
        },
        "id": "vro-bEKHJiaB",
        "outputId": "1f01b7dd-7cff-4300-a664-0e980b2055ac"
      },
      "execution_count": null,
      "outputs": [
        {
          "output_type": "execute_result",
          "data": {
            "text/plain": [
              "[<matplotlib.lines.Line2D at 0x7844ac845b70>]"
            ]
          },
          "metadata": {},
          "execution_count": 8
        },
        {
          "output_type": "display_data",
          "data": {
            "text/plain": [
              "<Figure size 640x480 with 1 Axes>"
            ],
            "image/png": "[encoded data removed]"
          },
          "metadata": {}
        }
      ]
    },
    {
      "cell_type": "code",
      "source": [
        "import numpy as np"
      ],
      "metadata": {
        "id": "sh7DIgrVJxm4"
      },
      "execution_count": null,
      "outputs": []
    },
    {
      "cell_type": "code",
      "source": [
        "df1"
      ],
      "metadata": {
        "colab": {
          "base_uri": "https://localhost:8080/"
        },
        "id": "pdHGIANSJ7X4",
        "outputId": "596ba2f7-5861-41e0-ca36-b8559bf39191"
      },
      "execution_count": null,
      "outputs": [
        {
          "output_type": "execute_result",
          "data": {
            "text/plain": [
              "0      10.5\n",
              "1      10.5\n",
              "2      10.3\n",
              "3      10.2\n",
              "4       9.9\n",
              "       ... \n",
              "468    11.3\n",
              "469    11.4\n",
              "470    11.6\n",
              "471    11.7\n",
              "472    11.3\n",
              "Name: Price, Length: 473, dtype: float64"
            ]
          },
          "metadata": {},
          "execution_count": 10
        }
      ]
    },
    {
      "cell_type": "code",
      "source": [
        "#Imports the necessary scaling tool.\n",
        "#Prepares a scaler to rescale data between 0 and 1.\n",
        "#Reshapes the data for compatibility with the scaler.\n",
        "#Fits the scaler to learn the data's minimum and maximum values.\n",
        "#Transforms the data using the fitted scaler, resulting in scaled values between 0 and 1.\n",
        "\n",
        "from sklearn.preprocessing import MinMaxScaler\n",
        "scaler = MinMaxScaler(feature_range=(0,1))\n",
        "df1 = scaler.fit_transform(np.array(df1).reshape(-1,1))\n"
      ],
      "metadata": {
        "id": "IC15wSAHJ-nZ"
      },
      "execution_count": null,
      "outputs": []
    },
    {
      "cell_type": "code",
      "source": [
        "df1"
      ],
      "metadata": {
        "colab": {
          "base_uri": "https://localhost:8080/"
        },
        "id": "9H1eoTEQKzNB",
        "outputId": "bc8f89fe-b1ee-48da-cf5d-0160576ae275"
      },
      "execution_count": null,
      "outputs": [
        {
          "output_type": "execute_result",
          "data": {
            "text/plain": [
              "array([[0.5952381 ],\n",
              "       [0.5952381 ],\n",
              "       [0.54761905],\n",
              "       [0.52380952],\n",
              "       [0.45238095],\n",
              "       [0.38095238],\n",
              "       [0.4047619 ],\n",
              "       [0.38095238],\n",
              "       [0.33333333],\n",
              "       [0.33333333],\n",
              "       [0.30952381],\n",
              "       [0.28571429],\n",
              "       [0.30952381],\n",
              "       [0.30952381],\n",
              "       [0.23809524],\n",
              "       [0.23809524],\n",
              "       [0.23809524],\n",
              "       [0.21428571],\n",
              "       [0.19047619],\n",
              "       [0.14285714],\n",
              "       [0.16666667],\n",
              "       [0.19047619],\n",
              "       [0.21428571],\n",
              "       [0.23809524],\n",
              "       [0.16666667],\n",
              "       [0.19047619],\n",
              "       [0.23809524],\n",
              "       [0.19047619],\n",
              "       [0.21428571],\n",
              "       [0.23809524],\n",
              "       [0.23809524],\n",
              "       [0.23809524],\n",
              "       [0.16666667],\n",
              "       [0.21428571],\n",
              "       [0.21428571],\n",
              "       [0.23809524],\n",
              "       [0.23809524],\n",
              "       [0.21428571],\n",
              "       [0.19047619],\n",
              "       [0.21428571],\n",
              "       [0.19047619],\n",
              "       [0.21428571],\n",
              "       [0.21428571],\n",
              "       [0.21428571],\n",
              "       [0.21428571],\n",
              "       [0.23809524],\n",
              "       [0.26190476],\n",
              "       [0.26190476],\n",
              "       [0.26190476],\n",
              "       [0.23809524],\n",
              "       [0.26190476],\n",
              "       [0.26190476],\n",
              "       [0.26190476],\n",
              "       [0.23809524],\n",
              "       [0.21428571],\n",
              "       [0.28571429],\n",
              "       [0.26190476],\n",
              "       [0.28571429],\n",
              "       [0.28571429],\n",
              "       [0.26190476],\n",
              "       [0.28571429],\n",
              "       [0.28571429],\n",
              "       [0.28571429],\n",
              "       [0.23809524],\n",
              "       [0.30952381],\n",
              "       [0.28571429],\n",
              "       [0.23809524],\n",
              "       [0.33333333],\n",
              "       [0.35714286],\n",
              "       [0.4047619 ],\n",
              "       [0.42857143],\n",
              "       [0.42857143],\n",
              "       [0.4047619 ],\n",
              "       [0.42857143],\n",
              "       [0.4047619 ],\n",
              "       [0.38095238],\n",
              "       [0.33333333],\n",
              "       [0.35714286],\n",
              "       [0.30952381],\n",
              "       [0.33333333],\n",
              "       [0.38095238],\n",
              "       [0.4047619 ],\n",
              "       [0.42857143],\n",
              "       [0.45238095],\n",
              "       [0.47619048],\n",
              "       [0.47619048],\n",
              "       [0.52380952],\n",
              "       [0.52380952],\n",
              "       [0.61904762],\n",
              "       [0.57142857],\n",
              "       [0.5952381 ],\n",
              "       [0.61904762],\n",
              "       [0.64285714],\n",
              "       [0.66666667],\n",
              "       [0.69047619],\n",
              "       [0.69047619],\n",
              "       [0.69047619],\n",
              "       [0.66666667],\n",
              "       [0.71428571],\n",
              "       [0.69047619],\n",
              "       [0.66666667],\n",
              "       [0.71428571],\n",
              "       [0.78571429],\n",
              "       [0.71428571],\n",
              "       [0.73809524],\n",
              "       [0.73809524],\n",
              "       [0.76190476],\n",
              "       [0.83333333],\n",
              "       [0.76190476],\n",
              "       [0.78571429],\n",
              "       [0.83333333],\n",
              "       [0.76190476],\n",
              "       [0.76190476],\n",
              "       [0.73809524],\n",
              "       [0.76190476],\n",
              "       [0.80952381],\n",
              "       [0.78571429],\n",
              "       [0.80952381],\n",
              "       [0.80952381],\n",
              "       [0.83333333],\n",
              "       [0.80952381],\n",
              "       [0.76190476],\n",
              "       [0.80952381],\n",
              "       [0.80952381],\n",
              "       [0.83333333],\n",
              "       [0.83333333],\n",
              "       [0.88095238],\n",
              "       [0.9047619 ],\n",
              "       [0.80952381],\n",
              "       [0.85714286],\n",
              "       [0.92857143],\n",
              "       [1.        ],\n",
              "       [0.95238095],\n",
              "       [0.95238095],\n",
              "       [0.95238095],\n",
              "       [0.97619048],\n",
              "       [0.83333333],\n",
              "       [0.73809524],\n",
              "       [0.71428571],\n",
              "       [0.73809524],\n",
              "       [0.76190476],\n",
              "       [0.69047619],\n",
              "       [0.69047619],\n",
              "       [0.76190476],\n",
              "       [0.78571429],\n",
              "       [0.76190476],\n",
              "       [0.73809524],\n",
              "       [0.66666667],\n",
              "       [0.71428571],\n",
              "       [0.71428571],\n",
              "       [0.71428571],\n",
              "       [0.73809524],\n",
              "       [0.71428571],\n",
              "       [0.69047619],\n",
              "       [0.66666667],\n",
              "       [0.64285714],\n",
              "       [0.64285714],\n",
              "       [0.57142857],\n",
              "       [0.54761905],\n",
              "       [0.5       ],\n",
              "       [0.57142857],\n",
              "       [0.57142857],\n",
              "       [0.54761905],\n",
              "       [0.5       ],\n",
              "       [0.57142857],\n",
              "       [0.5       ],\n",
              "       [0.5       ],\n",
              "       [0.52380952],\n",
              "       [0.54761905],\n",
              "       [0.52380952],\n",
              "       [0.54761905],\n",
              "       [0.57142857],\n",
              "       [0.54761905],\n",
              "       [0.54761905],\n",
              "       [0.52380952],\n",
              "       [0.52380952],\n",
              "       [0.52380952],\n",
              "       [0.54761905],\n",
              "       [0.5       ],\n",
              "       [0.47619048],\n",
              "       [0.52380952],\n",
              "       [0.52380952],\n",
              "       [0.47619048],\n",
              "       [0.42857143],\n",
              "       [0.45238095],\n",
              "       [0.45238095],\n",
              "       [0.47619048],\n",
              "       [0.47619048],\n",
              "       [0.47619048],\n",
              "       [0.5       ],\n",
              "       [0.54761905],\n",
              "       [0.5952381 ],\n",
              "       [0.66666667],\n",
              "       [0.66666667],\n",
              "       [0.69047619],\n",
              "       [0.73809524],\n",
              "       [0.71428571],\n",
              "       [0.73809524],\n",
              "       [0.69047619],\n",
              "       [0.71428571],\n",
              "       [0.66666667],\n",
              "       [0.71428571],\n",
              "       [0.71428571],\n",
              "       [0.71428571],\n",
              "       [0.69047619],\n",
              "       [0.66666667],\n",
              "       [0.64285714],\n",
              "       [0.69047619],\n",
              "       [0.5952381 ],\n",
              "       [0.57142857],\n",
              "       [0.54761905],\n",
              "       [0.5952381 ],\n",
              "       [0.57142857],\n",
              "       [0.5952381 ],\n",
              "       [0.5952381 ],\n",
              "       [0.5952381 ],\n",
              "       [0.5952381 ],\n",
              "       [0.57142857],\n",
              "       [0.5952381 ],\n",
              "       [0.57142857],\n",
              "       [0.5952381 ],\n",
              "       [0.57142857],\n",
              "       [0.5952381 ],\n",
              "       [0.57142857],\n",
              "       [0.52380952],\n",
              "       [0.5952381 ],\n",
              "       [0.61904762],\n",
              "       [0.61904762],\n",
              "       [0.57142857],\n",
              "       [0.54761905],\n",
              "       [0.5952381 ],\n",
              "       [0.61904762],\n",
              "       [0.69047619],\n",
              "       [0.47619048],\n",
              "       [0.28571429],\n",
              "       [0.21428571],\n",
              "       [0.21428571],\n",
              "       [0.23809524],\n",
              "       [0.19047619],\n",
              "       [0.19047619],\n",
              "       [0.21428571],\n",
              "       [0.19047619],\n",
              "       [0.16666667],\n",
              "       [0.19047619],\n",
              "       [0.21428571],\n",
              "       [0.19047619],\n",
              "       [0.23809524],\n",
              "       [0.23809524],\n",
              "       [0.21428571],\n",
              "       [0.35714286],\n",
              "       [0.35714286],\n",
              "       [0.38095238],\n",
              "       [0.42857143],\n",
              "       [0.47619048],\n",
              "       [0.47619048],\n",
              "       [0.35714286],\n",
              "       [0.35714286],\n",
              "       [0.33333333],\n",
              "       [0.33333333],\n",
              "       [0.30952381],\n",
              "       [0.28571429],\n",
              "       [0.28571429],\n",
              "       [0.28571429],\n",
              "       [0.28571429],\n",
              "       [0.28571429],\n",
              "       [0.28571429],\n",
              "       [0.26190476],\n",
              "       [0.28571429],\n",
              "       [0.26190476],\n",
              "       [0.23809524],\n",
              "       [0.26190476],\n",
              "       [0.28571429],\n",
              "       [0.19047619],\n",
              "       [0.16666667],\n",
              "       [0.11904762],\n",
              "       [0.14285714],\n",
              "       [0.11904762],\n",
              "       [0.11904762],\n",
              "       [0.11904762],\n",
              "       [0.14285714],\n",
              "       [0.14285714],\n",
              "       [0.14285714],\n",
              "       [0.19047619],\n",
              "       [0.14285714],\n",
              "       [0.16666667],\n",
              "       [0.19047619],\n",
              "       [0.14285714],\n",
              "       [0.16666667],\n",
              "       [0.16666667],\n",
              "       [0.19047619],\n",
              "       [0.19047619],\n",
              "       [0.23809524],\n",
              "       [0.21428571],\n",
              "       [0.33333333],\n",
              "       [0.28571429],\n",
              "       [0.28571429],\n",
              "       [0.23809524],\n",
              "       [0.19047619],\n",
              "       [0.14285714],\n",
              "       [0.14285714],\n",
              "       [0.0952381 ],\n",
              "       [0.11904762],\n",
              "       [0.11904762],\n",
              "       [0.14285714],\n",
              "       [0.0952381 ],\n",
              "       [0.07142857],\n",
              "       [0.14285714],\n",
              "       [0.0952381 ],\n",
              "       [0.11904762],\n",
              "       [0.0952381 ],\n",
              "       [0.07142857],\n",
              "       [0.07142857],\n",
              "       [0.0952381 ],\n",
              "       [0.0952381 ],\n",
              "       [0.07142857],\n",
              "       [0.07142857],\n",
              "       [0.0952381 ],\n",
              "       [0.04761905],\n",
              "       [0.04761905],\n",
              "       [0.04761905],\n",
              "       [0.07142857],\n",
              "       [0.04761905],\n",
              "       [0.02380952],\n",
              "       [0.02380952],\n",
              "       [0.02380952],\n",
              "       [0.        ],\n",
              "       [0.02380952],\n",
              "       [0.04761905],\n",
              "       [0.07142857],\n",
              "       [0.07142857],\n",
              "       [0.04761905],\n",
              "       [0.07142857],\n",
              "       [0.0952381 ],\n",
              "       [0.11904762],\n",
              "       [0.11904762],\n",
              "       [0.14285714],\n",
              "       [0.14285714],\n",
              "       [0.14285714],\n",
              "       [0.16666667],\n",
              "       [0.16666667],\n",
              "       [0.19047619],\n",
              "       [0.21428571],\n",
              "       [0.19047619],\n",
              "       [0.16666667],\n",
              "       [0.19047619],\n",
              "       [0.19047619],\n",
              "       [0.19047619],\n",
              "       [0.19047619],\n",
              "       [0.21428571],\n",
              "       [0.19047619],\n",
              "       [0.16666667],\n",
              "       [0.16666667],\n",
              "       [0.16666667],\n",
              "       [0.14285714],\n",
              "       [0.16666667],\n",
              "       [0.21428571],\n",
              "       [0.26190476],\n",
              "       [0.11904762],\n",
              "       [0.19047619],\n",
              "       [0.11904762],\n",
              "       [0.04761905],\n",
              "       [0.04761905],\n",
              "       [0.0952381 ],\n",
              "       [0.0952381 ],\n",
              "       [0.0952381 ],\n",
              "       [0.11904762],\n",
              "       [0.14285714],\n",
              "       [0.14285714],\n",
              "       [0.14285714],\n",
              "       [0.16666667],\n",
              "       [0.11904762],\n",
              "       [0.19047619],\n",
              "       [0.21428571],\n",
              "       [0.23809524],\n",
              "       [0.26190476],\n",
              "       [0.26190476],\n",
              "       [0.23809524],\n",
              "       [0.28571429],\n",
              "       [0.26190476],\n",
              "       [0.23809524],\n",
              "       [0.21428571],\n",
              "       [0.21428571],\n",
              "       [0.23809524],\n",
              "       [0.23809524],\n",
              "       [0.23809524],\n",
              "       [0.23809524],\n",
              "       [0.23809524],\n",
              "       [0.19047619],\n",
              "       [0.16666667],\n",
              "       [0.19047619],\n",
              "       [0.19047619],\n",
              "       [0.16666667],\n",
              "       [0.16666667],\n",
              "       [0.16666667],\n",
              "       [0.16666667],\n",
              "       [0.14285714],\n",
              "       [0.14285714],\n",
              "       [0.11904762],\n",
              "       [0.11904762],\n",
              "       [0.14285714],\n",
              "       [0.19047619],\n",
              "       [0.11904762],\n",
              "       [0.14285714],\n",
              "       [0.14285714],\n",
              "       [0.14285714],\n",
              "       [0.19047619],\n",
              "       [0.21428571],\n",
              "       [0.23809524],\n",
              "       [0.52380952],\n",
              "       [0.42857143],\n",
              "       [0.45238095],\n",
              "       [0.42857143],\n",
              "       [0.45238095],\n",
              "       [0.5       ],\n",
              "       [0.52380952],\n",
              "       [0.5       ],\n",
              "       [0.45238095],\n",
              "       [0.4047619 ],\n",
              "       [0.42857143],\n",
              "       [0.4047619 ],\n",
              "       [0.38095238],\n",
              "       [0.35714286],\n",
              "       [0.33333333],\n",
              "       [0.30952381],\n",
              "       [0.33333333],\n",
              "       [0.33333333],\n",
              "       [0.38095238],\n",
              "       [0.38095238],\n",
              "       [0.38095238],\n",
              "       [0.47619048],\n",
              "       [0.38095238],\n",
              "       [0.38095238],\n",
              "       [0.35714286],\n",
              "       [0.47619048],\n",
              "       [0.4047619 ],\n",
              "       [0.28571429],\n",
              "       [0.28571429],\n",
              "       [0.30952381],\n",
              "       [0.28571429],\n",
              "       [0.23809524],\n",
              "       [0.28571429],\n",
              "       [0.23809524],\n",
              "       [0.23809524],\n",
              "       [0.26190476],\n",
              "       [0.38095238],\n",
              "       [0.38095238],\n",
              "       [0.42857143],\n",
              "       [0.42857143],\n",
              "       [0.38095238],\n",
              "       [0.47619048],\n",
              "       [0.47619048],\n",
              "       [0.54761905],\n",
              "       [0.66666667],\n",
              "       [0.71428571],\n",
              "       [0.73809524],\n",
              "       [0.76190476],\n",
              "       [0.73809524],\n",
              "       [0.78571429],\n",
              "       [0.78571429],\n",
              "       [0.76190476],\n",
              "       [0.71428571],\n",
              "       [0.78571429],\n",
              "       [0.78571429],\n",
              "       [0.76190476],\n",
              "       [0.78571429],\n",
              "       [0.76190476],\n",
              "       [0.78571429],\n",
              "       [0.80952381],\n",
              "       [0.78571429],\n",
              "       [0.80952381],\n",
              "       [0.85714286],\n",
              "       [0.88095238],\n",
              "       [0.78571429]])"
            ]
          },
          "metadata": {},
          "execution_count": 12
        }
      ]
    },
    {
      "cell_type": "markdown",
      "source": [
        "**Train-test split is done using cross validation or random seed**"
      ],
      "metadata": {
        "id": "9J2jVBlsL5j0"
      }
    },
    {
      "cell_type": "code",
      "source": [
        "#this code splits the DataFrame df1 into two DataFrames\n",
        "training_size = int(len(df1)*0.80)\n",
        "test_size = len(df1)-training_size\n",
        "train_data,test_data = df1[0:training_size,:],df1[training_size:len(df1),:1]"
      ],
      "metadata": {
        "id": "m51oH_-6MSMw"
      },
      "execution_count": null,
      "outputs": []
    },
    {
      "cell_type": "code",
      "source": [
        "training_size, test_size"
      ],
      "metadata": {
        "colab": {
          "base_uri": "https://localhost:8080/"
        },
        "id": "YBzOuMjeNKdi",
        "outputId": "c6eea4f6-e0bd-4afb-9dd1-7e37615241ca"
      },
      "execution_count": null,
      "outputs": [
        {
          "output_type": "execute_result",
          "data": {
            "text/plain": [
              "(378, 95)"
            ]
          },
          "metadata": {},
          "execution_count": 14
        }
      ]
    },
    {
      "cell_type": "code",
      "source": [
        "#preprocessing to check time steps\n",
        "import numpy as np\n",
        "#convert an aray into a dataset matrix\n",
        "def create_dataset(dataset,time_step=1):\n",
        "  dataX, dataY= [], []\n",
        "  for i in range(len(dataset)-time_step-1):\n",
        "    a = dataset[i:(i+time_step),0] #i = 0,1,2,3,... 99   100\n",
        "    dataX.append(a)\n",
        "    dataY.append(dataset[i + time_step,0])\n",
        "  return np.array(dataX),np.array(dataY)\n"
      ],
      "metadata": {
        "id": "nX-FoeR_NsDZ"
      },
      "execution_count": null,
      "outputs": []
    },
    {
      "cell_type": "code",
      "source": [
        "time_step=50\n",
        "X_train, y_train = create_dataset(train_data, time_step)\n",
        "X_test, y_test  = create_dataset(test_data, time_step)\n"
      ],
      "metadata": {
        "id": "J5xc5cJMPcd8"
      },
      "execution_count": null,
      "outputs": []
    },
    {
      "cell_type": "code",
      "source": [
        "print(X_train.shape), print(y_train.shape)"
      ],
      "metadata": {
        "colab": {
          "base_uri": "https://localhost:8080/"
        },
        "id": "aBl01JrYRxyQ",
        "outputId": "729756bd-0e8a-4d74-9a39-70ddb16b9ac7"
      },
      "execution_count": null,
      "outputs": [
        {
          "output_type": "stream",
          "name": "stdout",
          "text": [
            "(327, 50)\n",
            "(327,)\n"
          ]
        },
        {
          "output_type": "execute_result",
          "data": {
            "text/plain": [
              "(None, None)"
            ]
          },
          "metadata": {},
          "execution_count": 62
        }
      ]
    },
    {
      "cell_type": "code",
      "source": [
        "print(X_test.shape), print(y_test.shape)"
      ],
      "metadata": {
        "colab": {
          "base_uri": "https://localhost:8080/"
        },
        "id": "A0lNcaJlRoMe",
        "outputId": "633e4612-e34c-48fb-b730-7270f1d3e395"
      },
      "execution_count": null,
      "outputs": [
        {
          "output_type": "stream",
          "name": "stdout",
          "text": [
            "(44, 50)\n",
            "(44,)\n"
          ]
        },
        {
          "output_type": "execute_result",
          "data": {
            "text/plain": [
              "(None, None)"
            ]
          },
          "metadata": {},
          "execution_count": 63
        }
      ]
    },
    {
      "cell_type": "code",
      "source": [
        "#3d\n",
        "\n",
        "# reshape input to be [samples, time steps, features] which is required for LSTM\n",
        "\n",
        "X_train = X_train.reshape(X_train.shape[0],X_train.shape[1], 1)\n",
        "X_test = X_test.reshape(X_test.shape[0],X_test.shape[1], 1)"
      ],
      "metadata": {
        "id": "3CBJsBnRTV4i"
      },
      "execution_count": null,
      "outputs": []
    },
    {
      "cell_type": "code",
      "source": [
        "## Create the Stacked LSTM model #\n",
        "from tensorflow.keras.models import Sequential\n",
        "from tensorflow.keras.layers import Dense\n",
        "from tensorflow.keras.layers import LSTM"
      ],
      "metadata": {
        "id": "RreltgyDUNTr"
      },
      "execution_count": null,
      "outputs": []
    },
    {
      "cell_type": "code",
      "source": [
        "model =  Sequential()\n",
        "model.add(LSTM(40, return_sequences=True, input_shape=(50,1)))\n",
        "model.add(LSTM(40, return_sequences=True))\n",
        "model.add(LSTM(40))\n",
        "model.add(Dense(1))\n",
        "\n",
        "model.compile(loss ='mean_squared_error',optimizer ='adam')"
      ],
      "metadata": {
        "id": "Ad2PbcGuUiXG"
      },
      "execution_count": null,
      "outputs": []
    },
    {
      "cell_type": "code",
      "source": [
        "model.summary()"
      ],
      "metadata": {
        "colab": {
          "base_uri": "https://localhost:8080/"
        },
        "id": "5uo20CQMVGrk",
        "outputId": "9b2ef97c-3c9d-41f7-94b5-1b95483868de"
      },
      "execution_count": null,
      "outputs": [
        {
          "output_type": "stream",
          "name": "stdout",
          "text": [
            "Model: \"sequential_7\"\n",
            "_________________________________________________________________\n",
            " Layer (type)                Output Shape              Param #   \n",
            "=================================================================\n",
            " lstm_21 (LSTM)              (None, 50, 40)            6720      \n",
            "                                                                 \n",
            " lstm_22 (LSTM)              (None, 50, 40)            12960     \n",
            "                                                                 \n",
            " lstm_23 (LSTM)              (None, 40)                12960     \n",
            "                                                                 \n",
            " dense_7 (Dense)             (None, 1)                 41        \n",
            "                                                                 \n",
            "=================================================================\n",
            "Total params: 32681 (127.66 KB)\n",
            "Trainable params: 32681 (127.66 KB)\n",
            "Non-trainable params: 0 (0.00 Byte)\n",
            "_________________________________________________________________\n"
          ]
        }
      ]
    },
    {
      "cell_type": "code",
      "source": [
        "model.fit(X_train,y_train,validation_data=(X_test,y_test),epochs=40,batch_size=64,verbose=1)"
      ],
      "metadata": {
        "colab": {
          "base_uri": "https://localhost:8080/"
        },
        "id": "2x3c4ZOZVpZQ",
        "outputId": "9d17e91d-8c0e-45cc-9901-81747e7ff8c8"
      },
      "execution_count": null,
      "outputs": [
        {
          "output_type": "stream",
          "name": "stdout",
          "text": [
            "Epoch 1/40\n",
            "6/6 [==============================] - 8s 464ms/step - loss: 0.1600 - val_loss: 0.0678\n",
            "Epoch 2/40\n",
            "6/6 [==============================] - 0s 80ms/step - loss: 0.0353 - val_loss: 0.0305\n",
            "Epoch 3/40\n",
            "6/6 [==============================] - 0s 79ms/step - loss: 0.0233 - val_loss: 0.0675\n",
            "Epoch 4/40\n",
            "6/6 [==============================] - 1s 100ms/step - loss: 0.0258 - val_loss: 0.0458\n",
            "Epoch 5/40\n",
            "6/6 [==============================] - 1s 125ms/step - loss: 0.0167 - val_loss: 0.0284\n",
            "Epoch 6/40\n",
            "6/6 [==============================] - 1s 143ms/step - loss: 0.0171 - val_loss: 0.0366\n",
            "Epoch 7/40\n",
            "6/6 [==============================] - 1s 122ms/step - loss: 0.0135 - val_loss: 0.0386\n",
            "Epoch 8/40\n",
            "6/6 [==============================] - 0s 74ms/step - loss: 0.0125 - val_loss: 0.0321\n",
            "Epoch 9/40\n",
            "6/6 [==============================] - 1s 89ms/step - loss: 0.0123 - val_loss: 0.0352\n",
            "Epoch 10/40\n",
            "6/6 [==============================] - 0s 79ms/step - loss: 0.0118 - val_loss: 0.0337\n",
            "Epoch 11/40\n",
            "6/6 [==============================] - 0s 70ms/step - loss: 0.0115 - val_loss: 0.0291\n",
            "Epoch 12/40\n",
            "6/6 [==============================] - 0s 71ms/step - loss: 0.0111 - val_loss: 0.0343\n",
            "Epoch 13/40\n",
            "6/6 [==============================] - 1s 99ms/step - loss: 0.0107 - val_loss: 0.0261\n",
            "Epoch 14/40\n",
            "6/6 [==============================] - 1s 163ms/step - loss: 0.0111 - val_loss: 0.0327\n",
            "Epoch 15/40\n",
            "6/6 [==============================] - 1s 130ms/step - loss: 0.0113 - val_loss: 0.0257\n",
            "Epoch 16/40\n",
            "6/6 [==============================] - 0s 76ms/step - loss: 0.0105 - val_loss: 0.0274\n",
            "Epoch 17/40\n",
            "6/6 [==============================] - 0s 78ms/step - loss: 0.0100 - val_loss: 0.0243\n",
            "Epoch 18/40\n",
            "6/6 [==============================] - 0s 76ms/step - loss: 0.0098 - val_loss: 0.0251\n",
            "Epoch 19/40\n",
            "6/6 [==============================] - 0s 85ms/step - loss: 0.0097 - val_loss: 0.0212\n",
            "Epoch 20/40\n",
            "6/6 [==============================] - 0s 77ms/step - loss: 0.0102 - val_loss: 0.0238\n",
            "Epoch 21/40\n",
            "6/6 [==============================] - 0s 79ms/step - loss: 0.0092 - val_loss: 0.0212\n",
            "Epoch 22/40\n",
            "6/6 [==============================] - 0s 76ms/step - loss: 0.0093 - val_loss: 0.0231\n",
            "Epoch 23/40\n",
            "6/6 [==============================] - 0s 79ms/step - loss: 0.0090 - val_loss: 0.0212\n",
            "Epoch 24/40\n",
            "6/6 [==============================] - 0s 72ms/step - loss: 0.0089 - val_loss: 0.0215\n",
            "Epoch 25/40\n",
            "6/6 [==============================] - 0s 72ms/step - loss: 0.0087 - val_loss: 0.0212\n",
            "Epoch 26/40\n",
            "6/6 [==============================] - 0s 76ms/step - loss: 0.0091 - val_loss: 0.0229\n",
            "Epoch 27/40\n",
            "6/6 [==============================] - 1s 117ms/step - loss: 0.0088 - val_loss: 0.0179\n",
            "Epoch 28/40\n",
            "6/6 [==============================] - 1s 126ms/step - loss: 0.0107 - val_loss: 0.0245\n",
            "Epoch 29/40\n",
            "6/6 [==============================] - 1s 155ms/step - loss: 0.0093 - val_loss: 0.0169\n",
            "Epoch 30/40\n",
            "6/6 [==============================] - 1s 108ms/step - loss: 0.0092 - val_loss: 0.0210\n",
            "Epoch 31/40\n",
            "6/6 [==============================] - 0s 72ms/step - loss: 0.0085 - val_loss: 0.0179\n",
            "Epoch 32/40\n",
            "6/6 [==============================] - 0s 82ms/step - loss: 0.0081 - val_loss: 0.0181\n",
            "Epoch 33/40\n",
            "6/6 [==============================] - 0s 74ms/step - loss: 0.0078 - val_loss: 0.0172\n",
            "Epoch 34/40\n",
            "6/6 [==============================] - 0s 72ms/step - loss: 0.0078 - val_loss: 0.0183\n",
            "Epoch 35/40\n",
            "6/6 [==============================] - 0s 73ms/step - loss: 0.0077 - val_loss: 0.0165\n",
            "Epoch 36/40\n",
            "6/6 [==============================] - 0s 69ms/step - loss: 0.0075 - val_loss: 0.0160\n",
            "Epoch 37/40\n",
            "6/6 [==============================] - 0s 71ms/step - loss: 0.0074 - val_loss: 0.0170\n",
            "Epoch 38/40\n",
            "6/6 [==============================] - 0s 69ms/step - loss: 0.0076 - val_loss: 0.0152\n",
            "Epoch 39/40\n",
            "6/6 [==============================] - 0s 71ms/step - loss: 0.0072 - val_loss: 0.0157\n",
            "Epoch 40/40\n",
            "6/6 [==============================] - 1s 88ms/step - loss: 0.0071 - val_loss: 0.0178\n"
          ]
        },
        {
          "output_type": "execute_result",
          "data": {
            "text/plain": [
              "<keras.src.callbacks.History at 0x784450e14cd0>"
            ]
          },
          "metadata": {},
          "execution_count": 69
        }
      ]
    },
    {
      "cell_type": "code",
      "source": [
        "import tensorflow as tf\n",
        "tf.__version__"
      ],
      "metadata": {
        "colab": {
          "base_uri": "https://localhost:8080/",
          "height": 36
        },
        "id": "n2_OoUFJYmgk",
        "outputId": "6b6c8efe-fea5-49c7-fbb4-b7a0f15968f0"
      },
      "execution_count": null,
      "outputs": [
        {
          "output_type": "execute_result",
          "data": {
            "text/plain": [
              "'2.15.0'"
            ],
            "application/vnd.google.colaboratory.intrinsic+json": {
              "type": "string"
            }
          },
          "metadata": {},
          "execution_count": 73
        }
      ]
    },
    {
      "cell_type": "code",
      "source": [
        "train_predict = model.predict(X_train)\n",
        "test_predict = model.predict(X_test)\n"
      ],
      "metadata": {
        "colab": {
          "base_uri": "https://localhost:8080/"
        },
        "id": "wykeLM70ZLpB",
        "outputId": "20c8dd05-7b9d-4b6a-f6a6-3c3b2a75a031"
      },
      "execution_count": null,
      "outputs": [
        {
          "output_type": "stream",
          "name": "stdout",
          "text": [
            "11/11 [==============================] - 0s 21ms/step\n",
            "2/2 [==============================] - 0s 17ms/step\n"
          ]
        }
      ]
    },
    {
      "cell_type": "code",
      "source": [
        "#transform back to oiginal form\n",
        "train_predict=scaler.inverse_transform(train_predict)\n",
        "test_predict=scaler.inverse_transform(test_predict)\n"
      ],
      "metadata": {
        "id": "65wF4up6g7nq"
      },
      "execution_count": null,
      "outputs": []
    },
    {
      "cell_type": "code",
      "source": [
        "### Calculate RMSE performance metrics\n",
        "\n",
        "import math\n",
        "\n",
        "from sklearn.metrics import mean_squared_error\n",
        "math.sqrt(mean_squared_error(y_train,train_predict))"
      ],
      "metadata": {
        "colab": {
          "base_uri": "https://localhost:8080/"
        },
        "id": "QAeawbv5hG3J",
        "outputId": "8e441d87-f815-4e1d-a370-cd93ee8f1679"
      },
      "execution_count": null,
      "outputs": [
        {
          "output_type": "execute_result",
          "data": {
            "text/plain": [
              "9.2501594882817"
            ]
          },
          "metadata": {},
          "execution_count": 76
        }
      ]
    },
    {
      "cell_type": "markdown",
      "source": [
        "Evaluate the test data predictions"
      ],
      "metadata": {
        "id": "ekRgO_Zd7lKN"
      }
    },
    {
      "cell_type": "code",
      "source": [
        "## Test Data RMSE\n",
        "\n",
        "math.sqrt(mean_squared_error(y_test, test_predict))"
      ],
      "metadata": {
        "colab": {
          "base_uri": "https://localhost:8080/"
        },
        "id": "6dmxvlNukFf_",
        "outputId": "7b01c950-a45c-44f4-f668-23dce02fa4f0"
      },
      "execution_count": null,
      "outputs": [
        {
          "output_type": "execute_result",
          "data": {
            "text/plain": [
              "9.485665736983691"
            ]
          },
          "metadata": {},
          "execution_count": 78
        }
      ]
    },
    {
      "cell_type": "code",
      "source": [
        "import numpy\n",
        "look_back=50\n",
        "trainPredictPlot = numpy.empty_like(df1)\n",
        "trainPredictPlot[:,:] = np.nan\n",
        "trainPredictPlot[look_back:len(train_predict)+look_back,:]=train_predict\n",
        "\n",
        "#shift test predictions for plotting\n",
        "testPredictPlot = numpy.empty_like(df1)\n",
        "testPredictPlot[:,] = numpy.nan\n",
        "print(f\"Shape of test_predict: {test_predict.shape}\")\n",
        "print(f\"Shape of testPredictPlot slice: {testPredictPlot[len(train_predict)+(look_back*2)+1:len(df1)-1, :].shape}\")\n",
        "testPredictPlot[len(train_predict)+(look_back*2)+1:len(df1)-1, :] = test_predict.reshape(-1,1)\n",
        "\n",
        "# plot baseline and predictions\n",
        "plt.plot(scaler.inverse_transform(df1))\n",
        "plt.plot(trainPredictPlot)\n",
        "plt.plot(testPredictPlot)\n",
        "\n",
        "# Plot with labels\n",
        "plt.plot(scaler.inverse_transform(df1), label='Original Data', color='blue')  # Label for original data\n",
        "plt.plot(trainPredictPlot, label='Train Predictions', color='green')  # Label for train predictions\n",
        "plt.plot(testPredictPlot, label='Test Predictions', color='yellow')  # Label for test predictions\n",
        "\n",
        "# Add a legend to display the labels\n",
        "plt.legend()\n",
        "\n",
        "# Optional: Add a title for the plot\n",
        "plt.title(\"LSTM Model Predictions\")\n",
        "\n",
        "plt.show()"
      ],
      "metadata": {
        "colab": {
          "base_uri": "https://localhost:8080/",
          "height": 489
        },
        "id": "I4vyA1kEloZT",
        "outputId": "c6404153-2ef5-4535-9603-21724ca87bbe"
      },
      "execution_count": null,
      "outputs": [
        {
          "output_type": "stream",
          "name": "stdout",
          "text": [
            "Shape of test_predict: (44, 1)\n",
            "Shape of testPredictPlot slice: (44, 1)\n"
          ]
        },
        {
          "output_type": "display_data",
          "data": {
            "text/plain": [
              "<Figure size 640x480 with 1 Axes>"
            ],
            "image/png": "[encoded data removed]"
          },
          "metadata": {}
        }
      ]
    }
  ]
}